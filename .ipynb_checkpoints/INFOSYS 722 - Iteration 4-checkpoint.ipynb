{
 "cells": [
  {
   "cell_type": "markdown",
   "id": "7753d5b9",
   "metadata": {},
   "source": [
    "# Data Understanding Phase"
   ]
  },
  {
   "cell_type": "code",
   "execution_count": 1,
   "id": "e6386bf1",
   "metadata": {},
   "outputs": [],
   "source": [
    "# Import necessary PySpark modules\n",
    "import findspark\n",
    "findspark.init('/home/ubuntu/spark-3.2.1-bin-hadoop2.7')\n",
    "import pyspark\n",
    "import numpy as np\n",
    "import pandas as pd\n",
    "import seaborn as sns\n",
    "import matplotlib.pyplot as plt\n",
    "from pyspark.sql import SparkSession\n",
    "from pyspark.sql.types import StringType\n",
    "from pyspark.sql.functions import isnan, when, count, col, round\n",
    "from pyspark.ml.feature import VectorAssembler"
   ]
  },
  {
   "cell_type": "code",
   "execution_count": 2,
   "id": "afab370b",
   "metadata": {
    "scrolled": true
   },
   "outputs": [
    {
     "name": "stderr",
     "output_type": "stream",
     "text": [
      "WARNING: An illegal reflective access operation has occurred\n",
      "WARNING: Illegal reflective access by org.apache.spark.unsafe.Platform (file:/home/ubuntu/spark-3.2.1-bin-hadoop2.7/jars/spark-unsafe_2.12-3.2.1.jar) to constructor java.nio.DirectByteBuffer(long,int)\n",
      "WARNING: Please consider reporting this to the maintainers of org.apache.spark.unsafe.Platform\n",
      "WARNING: Use --illegal-access=warn to enable warnings of further illegal reflective access operations\n",
      "WARNING: All illegal access operations will be denied in a future release\n",
      "Using Spark's default log4j profile: org/apache/spark/log4j-defaults.properties\n",
      "Setting default log level to \"WARN\".\n",
      "To adjust logging level use sc.setLogLevel(newLevel). For SparkR, use setLogLevel(newLevel).\n",
      "23/10/17 12:07:37 WARN NativeCodeLoader: Unable to load native-hadoop library for your platform... using builtin-java classes where applicable\n",
      "                                                                                \r"
     ]
    }
   ],
   "source": [
    "# Create a Spark session\n",
    "spark = SparkSession.builder.appName('StudentDataAnalysis').getOrCreate()\n",
    "\n",
    "# Load the CSV file into a PySpark DataFrame\n",
    "file_path = 'Datasets/student-por.csv'\n",
    "student_por = spark.read.csv(file_path, header=True, inferSchema=True)"
   ]
  },
  {
   "cell_type": "code",
   "execution_count": 3,
   "id": "1004d7c4",
   "metadata": {},
   "outputs": [
    {
     "name": "stdout",
     "output_type": "stream",
     "text": [
      "root\n",
      " |-- school: string (nullable = true)\n",
      " |-- sex: string (nullable = true)\n",
      " |-- age: integer (nullable = true)\n",
      " |-- address: string (nullable = true)\n",
      " |-- famsize: string (nullable = true)\n",
      " |-- Pstatus: string (nullable = true)\n",
      " |-- Medu: integer (nullable = true)\n",
      " |-- Fedu: integer (nullable = true)\n",
      " |-- Mjob: string (nullable = true)\n",
      " |-- Fjob: string (nullable = true)\n",
      " |-- reason: string (nullable = true)\n",
      " |-- guardian: string (nullable = true)\n",
      " |-- traveltime: integer (nullable = true)\n",
      " |-- studytime: integer (nullable = true)\n",
      " |-- failures: integer (nullable = true)\n",
      " |-- schoolsup: string (nullable = true)\n",
      " |-- famsup: string (nullable = true)\n",
      " |-- paid: string (nullable = true)\n",
      " |-- activities: string (nullable = true)\n",
      " |-- nursery: string (nullable = true)\n",
      " |-- higher: string (nullable = true)\n",
      " |-- internet: string (nullable = true)\n",
      " |-- romantic: string (nullable = true)\n",
      " |-- famrel: integer (nullable = true)\n",
      " |-- freetime: integer (nullable = true)\n",
      " |-- goout: integer (nullable = true)\n",
      " |-- Dalc: integer (nullable = true)\n",
      " |-- Walc: integer (nullable = true)\n",
      " |-- health: integer (nullable = true)\n",
      " |-- absences: integer (nullable = true)\n",
      " |-- G1: integer (nullable = true)\n",
      " |-- G2: integer (nullable = true)\n",
      " |-- G3: integer (nullable = true)\n",
      "\n"
     ]
    }
   ],
   "source": [
    "# Display the schema of the DataFrame\n",
    "student_por.printSchema()"
   ]
  },
  {
   "cell_type": "code",
   "execution_count": 4,
   "id": "e5678ac1",
   "metadata": {},
   "outputs": [
    {
     "name": "stdout",
     "output_type": "stream",
     "text": [
      "The shape of the data is: (649,33)\n"
     ]
    },
    {
     "name": "stderr",
     "output_type": "stream",
     "text": [
      "23/10/17 12:07:54 WARN package: Truncated the string representation of a plan since it was too large. This behavior can be adjusted by setting 'spark.sql.debug.maxToStringFields'.\n"
     ]
    },
    {
     "data": {
      "text/html": [
       "<div>\n",
       "<style scoped>\n",
       "    .dataframe tbody tr th:only-of-type {\n",
       "        vertical-align: middle;\n",
       "    }\n",
       "\n",
       "    .dataframe tbody tr th {\n",
       "        vertical-align: top;\n",
       "    }\n",
       "\n",
       "    .dataframe thead th {\n",
       "        text-align: right;\n",
       "    }\n",
       "</style>\n",
       "<table border=\"1\" class=\"dataframe\">\n",
       "  <thead>\n",
       "    <tr style=\"text-align: right;\">\n",
       "      <th></th>\n",
       "      <th>school</th>\n",
       "      <th>sex</th>\n",
       "      <th>age</th>\n",
       "      <th>address</th>\n",
       "      <th>famsize</th>\n",
       "      <th>Pstatus</th>\n",
       "      <th>Medu</th>\n",
       "      <th>Fedu</th>\n",
       "      <th>Mjob</th>\n",
       "      <th>Fjob</th>\n",
       "      <th>...</th>\n",
       "      <th>famrel</th>\n",
       "      <th>freetime</th>\n",
       "      <th>goout</th>\n",
       "      <th>Dalc</th>\n",
       "      <th>Walc</th>\n",
       "      <th>health</th>\n",
       "      <th>absences</th>\n",
       "      <th>G1</th>\n",
       "      <th>G2</th>\n",
       "      <th>G3</th>\n",
       "    </tr>\n",
       "  </thead>\n",
       "  <tbody>\n",
       "    <tr>\n",
       "      <th>0</th>\n",
       "      <td>GP</td>\n",
       "      <td>F</td>\n",
       "      <td>18</td>\n",
       "      <td>U</td>\n",
       "      <td>GT3</td>\n",
       "      <td>A</td>\n",
       "      <td>4</td>\n",
       "      <td>4</td>\n",
       "      <td>at_home</td>\n",
       "      <td>teacher</td>\n",
       "      <td>...</td>\n",
       "      <td>4</td>\n",
       "      <td>3</td>\n",
       "      <td>4</td>\n",
       "      <td>1</td>\n",
       "      <td>1</td>\n",
       "      <td>3</td>\n",
       "      <td>4</td>\n",
       "      <td>0</td>\n",
       "      <td>11</td>\n",
       "      <td>11</td>\n",
       "    </tr>\n",
       "    <tr>\n",
       "      <th>1</th>\n",
       "      <td>GP</td>\n",
       "      <td>F</td>\n",
       "      <td>17</td>\n",
       "      <td>U</td>\n",
       "      <td>GT3</td>\n",
       "      <td>T</td>\n",
       "      <td>1</td>\n",
       "      <td>1</td>\n",
       "      <td>at_home</td>\n",
       "      <td>other</td>\n",
       "      <td>...</td>\n",
       "      <td>5</td>\n",
       "      <td>3</td>\n",
       "      <td>3</td>\n",
       "      <td>1</td>\n",
       "      <td>1</td>\n",
       "      <td>3</td>\n",
       "      <td>2</td>\n",
       "      <td>9</td>\n",
       "      <td>11</td>\n",
       "      <td>11</td>\n",
       "    </tr>\n",
       "    <tr>\n",
       "      <th>2</th>\n",
       "      <td>GP</td>\n",
       "      <td>F</td>\n",
       "      <td>15</td>\n",
       "      <td>U</td>\n",
       "      <td>LE3</td>\n",
       "      <td>T</td>\n",
       "      <td>1</td>\n",
       "      <td>1</td>\n",
       "      <td>at_home</td>\n",
       "      <td>other</td>\n",
       "      <td>...</td>\n",
       "      <td>4</td>\n",
       "      <td>3</td>\n",
       "      <td>2</td>\n",
       "      <td>2</td>\n",
       "      <td>3</td>\n",
       "      <td>3</td>\n",
       "      <td>6</td>\n",
       "      <td>12</td>\n",
       "      <td>13</td>\n",
       "      <td>12</td>\n",
       "    </tr>\n",
       "    <tr>\n",
       "      <th>3</th>\n",
       "      <td>GP</td>\n",
       "      <td>F</td>\n",
       "      <td>15</td>\n",
       "      <td>U</td>\n",
       "      <td>GT3</td>\n",
       "      <td>T</td>\n",
       "      <td>4</td>\n",
       "      <td>2</td>\n",
       "      <td>health</td>\n",
       "      <td>services</td>\n",
       "      <td>...</td>\n",
       "      <td>3</td>\n",
       "      <td>2</td>\n",
       "      <td>2</td>\n",
       "      <td>1</td>\n",
       "      <td>1</td>\n",
       "      <td>5</td>\n",
       "      <td>0</td>\n",
       "      <td>14</td>\n",
       "      <td>14</td>\n",
       "      <td>14</td>\n",
       "    </tr>\n",
       "    <tr>\n",
       "      <th>4</th>\n",
       "      <td>GP</td>\n",
       "      <td>F</td>\n",
       "      <td>16</td>\n",
       "      <td>U</td>\n",
       "      <td>GT3</td>\n",
       "      <td>T</td>\n",
       "      <td>3</td>\n",
       "      <td>3</td>\n",
       "      <td>other</td>\n",
       "      <td>other</td>\n",
       "      <td>...</td>\n",
       "      <td>4</td>\n",
       "      <td>3</td>\n",
       "      <td>2</td>\n",
       "      <td>1</td>\n",
       "      <td>2</td>\n",
       "      <td>5</td>\n",
       "      <td>0</td>\n",
       "      <td>11</td>\n",
       "      <td>13</td>\n",
       "      <td>13</td>\n",
       "    </tr>\n",
       "  </tbody>\n",
       "</table>\n",
       "<p>5 rows × 33 columns</p>\n",
       "</div>"
      ],
      "text/plain": [
       "  school sex  age address famsize Pstatus  Medu  Fedu     Mjob      Fjob  ...  \\\n",
       "0     GP   F   18       U     GT3       A     4     4  at_home   teacher  ...   \n",
       "1     GP   F   17       U     GT3       T     1     1  at_home     other  ...   \n",
       "2     GP   F   15       U     LE3       T     1     1  at_home     other  ...   \n",
       "3     GP   F   15       U     GT3       T     4     2   health  services  ...   \n",
       "4     GP   F   16       U     GT3       T     3     3    other     other  ...   \n",
       "\n",
       "  famrel freetime  goout  Dalc  Walc health absences  G1  G2  G3  \n",
       "0      4        3      4     1     1      3        4   0  11  11  \n",
       "1      5        3      3     1     1      3        2   9  11  11  \n",
       "2      4        3      2     2     3      3        6  12  13  12  \n",
       "3      3        2      2     1     1      5        0  14  14  14  \n",
       "4      4        3      2     1     2      5        0  11  13  13  \n",
       "\n",
       "[5 rows x 33 columns]"
      ]
     },
     "execution_count": 4,
     "metadata": {},
     "output_type": "execute_result"
    }
   ],
   "source": [
    "# Display the shape of the DataFrame\n",
    "print(\"The shape of the data is: ({0},{1})\".format(student_por.count(),len(student_por.columns)))\n",
    "student_por.limit(5).toPandas()"
   ]
  },
  {
   "cell_type": "code",
   "execution_count": 5,
   "id": "4e0cfe73",
   "metadata": {
    "scrolled": false
   },
   "outputs": [
    {
     "name": "stderr",
     "output_type": "stream",
     "text": [
      "                                                                                \r"
     ]
    },
    {
     "data": {
      "image/png": "[encoded data removed]",
      "text/plain": [
       "<Figure size 576x432 with 1 Axes>"
      ]
     },
     "metadata": {
      "needs_background": "light"
     },
     "output_type": "display_data"
    }
   ],
   "source": [
    "# Collect the 'age' column from the DataFrame and convert it to a list\n",
    "age_data = student_por.select('age').rdd.flatMap(lambda x: x).collect()\n",
    "\n",
    "# Create a histogram for the age distribution\n",
    "plt.figure(figsize=(8, 6))\n",
    "plt.hist(age_data, bins=10, color='skyblue', edgecolor='black')\n",
    "plt.xlabel('Age')\n",
    "plt.ylabel('Frequency')\n",
    "plt.title('Age Distribution')\n",
    "plt.grid(axis='y', alpha=0.75)\n",
    "plt.show()\n"
   ]
  },
  {
   "cell_type": "code",
   "execution_count": 6,
   "id": "f645eedd",
   "metadata": {},
   "outputs": [
    {
     "data": {
      "image/png": "[encoded data removed]",
      "text/plain": [
       "<Figure size 576x432 with 1 Axes>"
      ]
     },
     "metadata": {
      "needs_background": "light"
     },
     "output_type": "display_data"
    }
   ],
   "source": [
    "# Create a histogram for the study time distribution\n",
    "studytime_histogram = student_por.groupBy(\"studytime\").count().orderBy(\"studytime\")\n",
    "studytime_levels = studytime_histogram.rdd.map(lambda x: x[0]).collect()\n",
    "studytime_counts = studytime_histogram.rdd.map(lambda x: x[1]).collect()\n",
    "\n",
    "plt.figure(figsize=(8, 6))\n",
    "plt.bar(studytime_levels, studytime_counts, color='lightgreen', edgecolor='black')\n",
    "plt.xlabel('Weekly Study Time')\n",
    "plt.ylabel('Frequency')\n",
    "plt.title('Study Time Distribution')\n",
    "plt.grid(axis='y', alpha=0.75)\n",
    "plt.xticks(studytime_levels, ['< 2 hours', '2 to 5 hours', '5 to 10 hours', '> 10 hours'])\n",
    "plt.show()"
   ]
  },
  {
   "cell_type": "code",
   "execution_count": 7,
   "id": "18739ece",
   "metadata": {
    "scrolled": false
   },
   "outputs": [
    {
     "data": {
      "image/png": "[encoded data removed]",
      "text/plain": [
       "<Figure size 576x432 with 1 Axes>"
      ]
     },
     "metadata": {
      "needs_background": "light"
     },
     "output_type": "display_data"
    }
   ],
   "source": [
    "# Collect the 'G3' column from the DataFrame and convert it to a list\n",
    "final_grade_data = student_por.select('G3').rdd.flatMap(lambda x: x).collect()\n",
    "\n",
    "# Create a histogram for the final grade (G3) distribution\n",
    "plt.figure(figsize=(8, 6))\n",
    "plt.hist(final_grade_data, bins=10, color='salmon', edgecolor='black')\n",
    "plt.xlabel('Final Grade (G3)')\n",
    "plt.ylabel('Frequency')\n",
    "plt.title('Final Grade (G3) Distribution')\n",
    "plt.grid(axis='y', alpha=0.75)\n",
    "plt.show()"
   ]
  },
  {
   "cell_type": "code",
   "execution_count": 8,
   "id": "d36198d8",
   "metadata": {
    "scrolled": true
   },
   "outputs": [
    {
     "name": "stdout",
     "output_type": "stream",
     "text": [
      "Completeness: Our dataset has no missing entries, ensuring 100% completeness across all fields and records.\n",
      "No null values found in the dataset.\n"
     ]
    }
   ],
   "source": [
    "# Check for missing values\n",
    "missing_values = student_por.select([count(when(isnan(c) | col(c).isNull(), c)).alias(c) for c in student_por.columns])\n",
    "\n",
    "# Calculate total missing values\n",
    "total_missing_values = missing_values.agg(*[count(when(col(c) > 0, c)).alias(c) for c in student_por.columns])\n",
    "\n",
    "# Check completeness\n",
    "completeness_dict = total_missing_values.first().asDict()\n",
    "if not any(completeness_dict.values()):\n",
    "    print(\"Completeness: Our dataset has no missing entries, ensuring 100% completeness across all fields and records.\")\n",
    "else:\n",
    "    print(\"Completeness: There are missing entries in the dataset.\")\n",
    "    print(total_missing_values.show())\n",
    "\n",
    "# Check for null values\n",
    "null_counts = student_por.select([count(when(col(c).isNull(), c)).alias(c) for c in student_por.columns])\n",
    "\n",
    "# Print columns with null values and their respective counts\n",
    "columns_with_null_values = null_counts.toPandas().melt(var_name='Column', value_name='Missing Count')\n",
    "\n",
    "if columns_with_null_values['Missing Count'].max() == 0:\n",
    "    print(\"No null values found in the dataset.\")\n",
    "else:\n",
    "    print(\"Columns with null values:\")\n",
    "    print(columns_with_null_values[columns_with_null_values['Missing Count'] > 0])\n"
   ]
  },
  {
   "cell_type": "markdown",
   "id": "329069a8",
   "metadata": {},
   "source": [
    "# Data Preparation Phase"
   ]
  },
  {
   "cell_type": "code",
   "execution_count": 9,
   "id": "1baeb2bb",
   "metadata": {},
   "outputs": [
    {
     "name": "stdout",
     "output_type": "stream",
     "text": [
      "Remaining columns:\n",
      "['sex', 'age', 'address', 'famsize', 'Pstatus', 'Medu', 'Fedu', 'Mjob', 'Fjob', 'traveltime', 'studytime', 'failures', 'schoolsup', 'famsup', 'paid', 'activities', 'nursery', 'higher', 'internet', 'romantic', 'famrel', 'freetime', 'goout', 'Dalc', 'Walc', 'health', 'absences', 'G1', 'G2', 'G3']\n",
      "Total number of remaining columns: 30\n"
     ]
    }
   ],
   "source": [
    "# Drop the specified columns\n",
    "columns_to_drop = ['school', 'reason', 'guardian']\n",
    "student_por = student_por.drop(*columns_to_drop)\n",
    "\n",
    "# Display the remaining columns\n",
    "remaining_columns = student_por.columns\n",
    "column_count = len(remaining_columns)\n",
    "\n",
    "print(\"Remaining columns:\")\n",
    "print(remaining_columns)\n",
    "print(f\"Total number of remaining columns: {column_count}\")"
   ]
  },
  {
   "cell_type": "code",
   "execution_count": 10,
   "id": "cf995cf1",
   "metadata": {},
   "outputs": [
    {
     "data": {
      "image/png": "[encoded data removed]",
      "text/plain": [
       "<Figure size 864x432 with 6 Axes>"
      ]
     },
     "metadata": {
      "needs_background": "light"
     },
     "output_type": "display_data"
    }
   ],
   "source": [
    "# Select the columns with outliers to create histograms\n",
    "columns = ['failures', 'absences', 'G1', 'G2', 'G3']\n",
    "\n",
    "# Collect data from PySpark DataFrame to Python lists\n",
    "data = {col: student_por.select(col).rdd.flatMap(lambda x: x).collect() for col in columns}\n",
    "\n",
    "# Create subplots\n",
    "fig, axes = plt.subplots(2, 3, figsize=(12, 6))\n",
    "\n",
    "# Create histograms\n",
    "for i, col in enumerate(columns):\n",
    "    ax = axes[i // 3, i % 3]\n",
    "    ax.hist(data[col], bins=20, color='skyblue', edgecolor='black')\n",
    "    ax.set_title(col)\n",
    "\n",
    "plt.tight_layout()\n",
    "plt.show()"
   ]
  },
  {
   "cell_type": "code",
   "execution_count": 11,
   "id": "676376ec",
   "metadata": {},
   "outputs": [
    {
     "name": "stdout",
     "output_type": "stream",
     "text": [
      "['sex', 'age', 'address', 'famsize', 'Pstatus', 'Medu', 'Fedu', 'Mjob', 'Fjob', 'traveltime', 'studytime', 'failures', 'schoolsup', 'famsup', 'paid', 'activities', 'nursery', 'higher', 'internet', 'romantic', 'famrel', 'freetime', 'goout', 'Dalc', 'Walc', 'health', 'absences', 'G1', 'G2', 'G3', 'passstatus']\n",
      "Total number of columns: 31\n"
     ]
    }
   ],
   "source": [
    "from pyspark.sql.functions import col, when\n",
    "from pyspark.sql.types import StringType\n",
    "\n",
    "# Define the condition to create the 'passstatus' column\n",
    "condition = when(col('G3') >= 10, 'yes').otherwise('no')\n",
    "\n",
    "# Create a new column 'passstatus' based on the condition\n",
    "student_por = student_por.withColumn('passstatus', condition)\n",
    "\n",
    "# Cast the 'passstatus' column to a categorical data type\n",
    "student_por = student_por.withColumn('passstatus', student_por['passstatus'].cast(StringType()))\n",
    "\n",
    "# Print the data types after conversion\n",
    "print(student_por.columns)\n",
    "print(\"Total number of columns:\", len(student_por.columns))\n"
   ]
  },
  {
   "cell_type": "code",
   "execution_count": 12,
   "id": "539c672c",
   "metadata": {
    "scrolled": true
   },
   "outputs": [
    {
     "name": "stdout",
     "output_type": "stream",
     "text": [
      "+---+---+-------+-------+-------+----+----+--------+--------+----------+---------+--------+---------+------+----+----------+-------+------+--------+--------+------+--------+-----+----+----+------+--------+---+---+---+----------+\n",
      "|sex|age|address|famsize|Pstatus|Medu|Fedu|    Mjob|    Fjob|traveltime|studytime|failures|schoolsup|famsup|paid|activities|nursery|higher|internet|romantic|famrel|freetime|goout|Dalc|Walc|health|absences| G1| G2| G3|passstatus|\n",
      "+---+---+-------+-------+-------+----+----+--------+--------+----------+---------+--------+---------+------+----+----------+-------+------+--------+--------+------+--------+-----+----+----+------+--------+---+---+---+----------+\n",
      "|  F| 18|      U|    GT3|      A|   4|   4| at_home| teacher|         2|        2|       0|      yes|    no|  no|        no|    yes|   yes|      no|      no|     4|       3|    4|   1|   1|     3|       4|  0| 11| 11|       yes|\n",
      "|  F| 17|      U|    GT3|      T|   1|   1| at_home|   other|         1|        2|       0|       no|   yes|  no|        no|     no|   yes|     yes|      no|     5|       3|    3|   1|   1|     3|       2|  9| 11| 11|       yes|\n",
      "|  F| 15|      U|    LE3|      T|   1|   1| at_home|   other|         1|        2|       0|      yes|    no|  no|        no|    yes|   yes|     yes|      no|     4|       3|    2|   2|   3|     3|       6| 12| 13| 12|       yes|\n",
      "|  F| 15|      U|    GT3|      T|   4|   2|  health|services|         1|        3|       0|       no|   yes|  no|       yes|    yes|   yes|     yes|     yes|     3|       2|    2|   1|   1|     5|       0| 14| 14| 14|       yes|\n",
      "|  F| 16|      U|    GT3|      T|   3|   3|   other|   other|         1|        2|       0|       no|   yes|  no|        no|    yes|   yes|      no|      no|     4|       3|    2|   1|   2|     5|       0| 11| 13| 13|       yes|\n",
      "|  M| 16|      U|    LE3|      T|   4|   3|services|   other|         1|        2|       0|       no|   yes|  no|       yes|    yes|   yes|     yes|      no|     5|       4|    2|   1|   2|     5|       6| 12| 12| 13|       yes|\n",
      "|  M| 16|      U|    LE3|      T|   2|   2|   other|   other|         1|        2|       0|       no|    no|  no|        no|    yes|   yes|     yes|      no|     4|       4|    4|   1|   1|     3|       0| 13| 12| 13|       yes|\n",
      "|  F| 17|      U|    GT3|      A|   4|   4|   other| teacher|         2|        2|       0|      yes|   yes|  no|        no|    yes|   yes|      no|      no|     4|       1|    4|   1|   1|     1|       2| 10| 13| 13|       yes|\n",
      "|  M| 15|      U|    LE3|      A|   3|   2|services|   other|         1|        2|       0|       no|   yes|  no|        no|    yes|   yes|     yes|      no|     4|       2|    2|   1|   1|     1|       0| 15| 16| 17|       yes|\n",
      "|  M| 15|      U|    GT3|      T|   3|   4|   other|   other|         1|        2|       0|       no|   yes|  no|       yes|    yes|   yes|     yes|      no|     5|       5|    1|   1|   1|     5|       0| 12| 12| 13|       yes|\n",
      "|  F| 15|      U|    GT3|      T|   4|   4| teacher|  health|         1|        2|       0|       no|   yes|  no|        no|    yes|   yes|     yes|      no|     3|       3|    3|   1|   2|     2|       2| 14| 14| 14|       yes|\n",
      "|  F| 15|      U|    GT3|      T|   2|   1|services|   other|         3|        3|       0|       no|   yes|  no|       yes|    yes|   yes|     yes|      no|     5|       2|    2|   1|   1|     4|       0| 10| 12| 13|       yes|\n",
      "|  M| 15|      U|    LE3|      T|   4|   4|  health|services|         1|        1|       0|       no|   yes|  no|       yes|    yes|   yes|     yes|      no|     4|       3|    3|   1|   3|     5|       0| 12| 13| 12|       yes|\n",
      "|  M| 15|      U|    GT3|      T|   4|   3| teacher|   other|         2|        2|       0|       no|   yes|  no|        no|    yes|   yes|     yes|      no|     5|       4|    3|   1|   2|     3|       0| 12| 12| 13|       yes|\n",
      "|  M| 15|      U|    GT3|      A|   2|   2|   other|   other|         1|        3|       0|       no|   yes|  no|        no|    yes|   yes|     yes|     yes|     4|       5|    2|   1|   1|     3|       0| 14| 14| 15|       yes|\n",
      "|  F| 16|      U|    GT3|      T|   4|   4|  health|   other|         1|        1|       0|       no|   yes|  no|        no|    yes|   yes|     yes|      no|     4|       4|    4|   1|   2|     2|       6| 17| 17| 17|       yes|\n",
      "|  F| 16|      U|    GT3|      T|   4|   4|services|services|         1|        3|       0|       no|   yes|  no|       yes|    yes|   yes|     yes|      no|     3|       2|    3|   1|   2|     2|      10| 13| 13| 14|       yes|\n",
      "|  F| 16|      U|    GT3|      T|   3|   3|   other|   other|         3|        2|       0|      yes|   yes|  no|       yes|    yes|   yes|      no|      no|     5|       3|    2|   1|   1|     4|       2| 13| 14| 14|       yes|\n",
      "|  M| 17|      U|    GT3|      T|   3|   2|services|services|         1|        1|       3|       no|   yes| yes|       yes|    yes|   yes|     yes|      no|     5|       5|    5|   2|   4|     5|       2|  8|  8|  7|        no|\n",
      "|  M| 16|      U|    LE3|      T|   4|   3|  health|   other|         1|        1|       0|       no|    no|  no|       yes|    yes|   yes|     yes|      no|     3|       1|    3|   1|   3|     5|       6| 12| 12| 12|       yes|\n",
      "+---+---+-------+-------+-------+----+----+--------+--------+----------+---------+--------+---------+------+----+----------+-------+------+--------+--------+------+--------+-----+----+----+------+--------+---+---+---+----------+\n",
      "only showing top 20 rows\n",
      "\n",
      "Total number of rows: 1044\n",
      "Total number of columns: 31\n"
     ]
    }
   ],
   "source": [
    "# Load student_mat data from CSV\n",
    "student_mat_path = 'Datasets/student-mat.csv'\n",
    "student_mat = spark.read.csv(student_mat_path, header=True, inferSchema=True)\n",
    "\n",
    "# Drop the specified columns\n",
    "columns_to_drop = ['school', 'reason', 'guardian']\n",
    "student_mat = student_mat.drop(*columns_to_drop)\n",
    "\n",
    "# Define the condition to create the 'passstatus' column for student_mat\n",
    "pass_condition = when(col('G3') >= 10, 'yes').otherwise('no')\n",
    "\n",
    "# Create a new column 'passstatus' based on the condition for student_mat\n",
    "student_mat = student_mat.withColumn('passstatus', pass_condition)\n",
    "\n",
    "# Cast the 'passstatus' column to a categorical data type for student_mat\n",
    "student_mat = student_mat.withColumn('passstatus', student_mat['passstatus'].cast(StringType()))\n",
    "\n",
    "# Combine the DataFrames vertically using union\n",
    "student_data = student_por.union(student_mat)\n",
    "\n",
    "# Show the combined student data table\n",
    "student_data.show()\n",
    "\n",
    "# Print the total number of rows and columns\n",
    "print(\"Total number of rows:\", student_data.count())\n",
    "print(\"Total number of columns:\", len(student_data.columns))"
   ]
  },
  {
   "cell_type": "code",
   "execution_count": 13,
   "id": "2a237bff",
   "metadata": {},
   "outputs": [],
   "source": [
    "# Define binary mapping for binary attributes\n",
    "binary_mapping = {'sex': {'F': 0, 'M': 1}, 'address': {'U': 0, 'R': 1}, 'famsize': {'LE3': 0, 'GT3': 1}, 'Pstatus': {'T': 0, 'A': 1}, 'schoolsup': {'no': 0, 'yes': 1}, 'famsup': {'no': 0, 'yes': 1}, 'paid': {'no': 0, 'yes': 1}, 'activities': {'no': 0, 'yes': 1}, 'nursery': {'no': 0, 'yes': 1}, 'higher': {'no': 0, 'yes': 1}, 'internet': {'no': 0, 'yes': 1}, 'romantic': {'no': 0, 'yes': 1}, 'passstatus': {'no': 0, 'yes': 1}}\n",
    "\n",
    "for column, mapping in binary_mapping.items():\n",
    "    # Define the user-defined function (UDF)\n",
    "    from pyspark.sql.functions import udf\n",
    "    from pyspark.sql.types import IntegerType\n",
    "    \n",
    "    # Create a UDF to map values\n",
    "    def map_values(value):\n",
    "        if value in mapping:\n",
    "            return mapping[value]\n",
    "        else:\n",
    "            return 0\n",
    "    \n",
    "    map_values_udf = udf(map_values, IntegerType())\n",
    "    \n",
    "    # Apply the UDF to the column\n",
    "    student_data = student_data.withColumn(column, map_values_udf(col(column)))"
   ]
  },
  {
   "cell_type": "code",
   "execution_count": 14,
   "id": "ec479f06",
   "metadata": {},
   "outputs": [
    {
     "name": "stderr",
     "output_type": "stream",
     "text": [
      "                                                                                \r"
     ]
    }
   ],
   "source": [
    "# Apply one-hot encoding for nominal columns\n",
    "from pyspark.ml.feature import StringIndexer, OneHotEncoder\n",
    "from pyspark.ml import Pipeline\n",
    "\n",
    "nominal_categorical_columns = ['Mjob', 'Fjob']\n",
    "\n",
    "indexers = [StringIndexer(inputCol=column, outputCol=f\"{column}_index\") for column in nominal_categorical_columns]\n",
    "encoders = [OneHotEncoder(inputCol=f\"{column}_index\", outputCol=f\"{column}_encoded\") for column in nominal_categorical_columns]\n",
    "\n",
    "pipeline = Pipeline(stages=indexers + encoders)\n",
    "model = pipeline.fit(student_data)\n",
    "student_data = model.transform(student_data)\n",
    "\n",
    "# Drop the original string columns\n",
    "columns_to_drop = ['Mjob', 'Fjob']\n",
    "student_data = student_data.drop(*columns_to_drop)"
   ]
  },
  {
   "cell_type": "markdown",
   "id": "5cd3a56c",
   "metadata": {},
   "source": [
    "# Data Transformation Phase"
   ]
  },
  {
   "cell_type": "code",
   "execution_count": 15,
   "id": "a4eadea5",
   "metadata": {
    "scrolled": false
   },
   "outputs": [
    {
     "name": "stdout",
     "output_type": "stream",
     "text": [
      "root\n",
      " |-- sex: integer (nullable = true)\n",
      " |-- age: integer (nullable = true)\n",
      " |-- address: integer (nullable = true)\n",
      " |-- famsize: integer (nullable = true)\n",
      " |-- Pstatus: integer (nullable = true)\n",
      " |-- Medu: integer (nullable = true)\n",
      " |-- Fedu: integer (nullable = true)\n",
      " |-- traveltime: integer (nullable = true)\n",
      " |-- studytime: integer (nullable = true)\n",
      " |-- failures: integer (nullable = true)\n",
      " |-- schoolsup: integer (nullable = true)\n",
      " |-- famsup: integer (nullable = true)\n",
      " |-- paid: integer (nullable = true)\n",
      " |-- activities: integer (nullable = true)\n",
      " |-- nursery: integer (nullable = true)\n",
      " |-- higher: integer (nullable = true)\n",
      " |-- internet: integer (nullable = true)\n",
      " |-- romantic: integer (nullable = true)\n",
      " |-- famrel: integer (nullable = true)\n",
      " |-- freetime: integer (nullable = true)\n",
      " |-- goout: integer (nullable = true)\n",
      " |-- Dalc: integer (nullable = true)\n",
      " |-- Walc: integer (nullable = true)\n",
      " |-- health: integer (nullable = true)\n",
      " |-- absences: integer (nullable = true)\n",
      " |-- passstatus: integer (nullable = true)\n",
      " |-- Mjob_index: double (nullable = false)\n",
      " |-- Fjob_index: double (nullable = false)\n",
      " |-- Mjob_encoded: vector (nullable = true)\n",
      " |-- Fjob_encoded: vector (nullable = true)\n",
      "\n"
     ]
    }
   ],
   "source": [
    "# Drop the specified columns\n",
    "columns_to_drop = ['G1', 'G2', 'G3']\n",
    "student_data = student_data.drop(*columns_to_drop)\n",
    "\n",
    "# Print the schema of the DataFrame after transformations\n",
    "student_data.printSchema()"
   ]
  },
  {
   "cell_type": "code",
   "execution_count": 16,
   "id": "ab09b2ad",
   "metadata": {},
   "outputs": [
    {
     "name": "stdout",
     "output_type": "stream",
     "text": [
      "The shape of the data is: (1044,30)\n"
     ]
    }
   ],
   "source": [
    "# Display the shape of the DataFrame\n",
    "print(\"The shape of the data is: ({0},{1})\".format(student_data.count(),len(student_data.columns)))"
   ]
  },
  {
   "cell_type": "code",
   "execution_count": 17,
   "id": "79ba3be6",
   "metadata": {},
   "outputs": [
    {
     "name": "stderr",
     "output_type": "stream",
     "text": [
      "                                                                                \r"
     ]
    },
    {
     "data": {
      "image/png": "[encoded data removed]",
      "text/plain": [
       "<Figure size 576x432 with 1 Axes>"
      ]
     },
     "metadata": {
      "needs_background": "light"
     },
     "output_type": "display_data"
    },
    {
     "name": "stdout",
     "output_type": "stream",
     "text": [
      "+----------+-----+----------+\n",
      "|passstatus|count|Percentage|\n",
      "+----------+-----+----------+\n",
      "|         1|  814|     77.97|\n",
      "|         0|  230|     22.03|\n",
      "+----------+-----+----------+\n",
      "\n"
     ]
    }
   ],
   "source": [
    "# Create a histogram for the distribution of 'passstatus'\n",
    "passstatus_histogram = student_data.groupBy(\"passstatus\").count().orderBy(\"passstatus\")\n",
    "passstatus_levels = passstatus_histogram.rdd.map(lambda x: x[0]).collect()\n",
    "passstatus_counts = passstatus_histogram.rdd.map(lambda x: x[1]).collect()\n",
    "\n",
    "plt.figure(figsize=(8, 6))\n",
    "plt.bar(passstatus_levels, passstatus_counts, color='lightblue', edgecolor='black')\n",
    "plt.xlabel('Pass Status')\n",
    "plt.ylabel('Frequency')\n",
    "plt.title('Pass Status Distribution')\n",
    "plt.grid(axis='y', alpha=0.75)\n",
    "\n",
    "# Show the plot\n",
    "plt.show()\n",
    "\n",
    "# Generate a count and percentage table for 'passstatus'\n",
    "passstatus_counts = student_data.groupBy(\"passstatus\").count()\n",
    "total_count = student_data.count()\n",
    "passstatus_percentages = passstatus_counts.withColumn(\"Percentage\", round(passstatus_counts[\"count\"] / total_count * 100, 2))\n",
    "\n",
    "# Show the count and percentage table\n",
    "passstatus_percentages.show()"
   ]
  },
  {
   "cell_type": "code",
   "execution_count": 18,
   "id": "fb9fb24d",
   "metadata": {},
   "outputs": [
    {
     "name": "stderr",
     "output_type": "stream",
     "text": [
      "[Stage 71:=============================>                            (2 + 2) / 4]\r"
     ]
    },
    {
     "name": "stdout",
     "output_type": "stream",
     "text": [
      "+----------+-----+------------------+\n",
      "|passstatus|count|        Percentage|\n",
      "+----------+-----+------------------+\n",
      "|         1|  575|49.441100601891655|\n",
      "|         0|  588| 50.55889939810834|\n",
      "+----------+-----+------------------+\n",
      "\n"
     ]
    },
    {
     "name": "stderr",
     "output_type": "stream",
     "text": [
      "\r",
      "                                                                                \r"
     ]
    }
   ],
   "source": [
    "# Split the dataset into training and testing sets\n",
    "X = student_data.drop('passstatus')\n",
    "y = student_data.select('passstatus')\n",
    "\n",
    "train_data, test_data = student_data.randomSplit([0.7, 0.3], seed=111)\n",
    "\n",
    "# Amend class imbalance of passstatus for the training dataset\n",
    "df_major_train = train_data.filter(col(\"passstatus\") == 1)\n",
    "df_minor_train = train_data.filter(col(\"passstatus\") == 0)\n",
    "\n",
    "a_count = df_major_train.count()\n",
    "b_count = df_minor_train.count()\n",
    "ratio = a_count / b_count\n",
    "\n",
    "df_minor_upsample_train = df_minor_train.sample(True, ratio, seed=123)\n",
    "\n",
    "train_data_upsampled = df_major_train.unionAll(df_minor_upsample_train)\n",
    "train_data_upsampled = train_data_upsampled.withColumn(\"passstatus\", when(col(\"passstatus\") == 1, 1).otherwise(0))\n",
    "\n",
    "# Combine X_train and y_train for the training dataset\n",
    "training_data = train_data_upsampled\n",
    "\n",
    "# Calculate class counts and percentages for the training dataset\n",
    "class_counts_train = training_data.groupBy(\"passstatus\").count()\n",
    "total_count_train = training_data.count()\n",
    "class_percentages_train = class_counts_train.withColumn(\"Percentage\", (class_counts_train[\"count\"] / total_count_train * 100).cast(StringType()))\n",
    "\n",
    "# Display the class distribution for the training dataset\n",
    "class_percentages_train.show()\n",
    "\n"
   ]
  },
  {
   "cell_type": "code",
   "execution_count": 19,
   "id": "97875d03",
   "metadata": {},
   "outputs": [
    {
     "name": "stderr",
     "output_type": "stream",
     "text": [
      "                                                                                \r"
     ]
    },
    {
     "data": {
      "image/png": "[encoded data removed]",
      "text/plain": [
       "<Figure size 576x432 with 1 Axes>"
      ]
     },
     "metadata": {
      "needs_background": "light"
     },
     "output_type": "display_data"
    },
    {
     "name": "stderr",
     "output_type": "stream",
     "text": [
      "                                                                                \r"
     ]
    },
    {
     "name": "stdout",
     "output_type": "stream",
     "text": [
      "+----------+-----+----------+\n",
      "|passstatus|count|Percentage|\n",
      "+----------+-----+----------+\n",
      "|         1|  575|     49.44|\n",
      "|         0|  588|     50.56|\n",
      "+----------+-----+----------+\n",
      "\n"
     ]
    },
    {
     "name": "stderr",
     "output_type": "stream",
     "text": [
      "\r",
      "[Stage 91:>                                                         (0 + 2) / 4]\r",
      "\r",
      "[Stage 91:=============================>                            (2 + 2) / 4]\r"
     ]
    },
    {
     "name": "stdout",
     "output_type": "stream",
     "text": [
      "The shape of data is: (1163,30)\n"
     ]
    },
    {
     "name": "stderr",
     "output_type": "stream",
     "text": [
      "\r",
      "                                                                                \r"
     ]
    }
   ],
   "source": [
    "# Create a histogram for the distribution of 'passstatus'\n",
    "passstatus_histogram = training_data.groupBy(\"passstatus\").count().orderBy(\"passstatus\")\n",
    "passstatus_levels = passstatus_histogram.rdd.map(lambda x: x[0]).collect()\n",
    "passstatus_counts = passstatus_histogram.rdd.map(lambda x: x[1]).collect()\n",
    "\n",
    "plt.figure(figsize=(8, 6))\n",
    "plt.bar(passstatus_levels, passstatus_counts, color='lightblue', edgecolor='black')\n",
    "plt.xlabel('Pass Status')\n",
    "plt.ylabel('Frequency')\n",
    "plt.title('Pass Status Distribution')\n",
    "plt.grid(axis='y', alpha=0.75)\n",
    "\n",
    "# Show the plot\n",
    "plt.show()\n",
    "\n",
    "# Generate a count and percentage table for 'passstatus'\n",
    "passstatus_counts = training_data.groupBy(\"passstatus\").count()\n",
    "total_count = training_data.count()\n",
    "passstatus_percentages = passstatus_counts.withColumn(\"Percentage\", round(passstatus_counts[\"count\"] / total_count * 100, 2))\n",
    "\n",
    "# Show the count and percentage table\n",
    "passstatus_percentages.show()\n",
    "print(\"The shape of data is: ({0},{1})\".format(training_data.count(),len(training_data.columns)))"
   ]
  },
  {
   "cell_type": "markdown",
   "id": "16729f54",
   "metadata": {},
   "source": [
    "# Data Mining Algorithm Selection Phase"
   ]
  },
  {
   "cell_type": "code",
   "execution_count": 20,
   "id": "f180adae",
   "metadata": {},
   "outputs": [
    {
     "name": "stderr",
     "output_type": "stream",
     "text": [
      "[Stage 179:>                                                        (0 + 2) / 2]\r"
     ]
    },
    {
     "name": "stdout",
     "output_type": "stream",
     "text": [
      "Algorithm Performances:\n",
      "Random Forest (Training): 80.14%\n",
      "Decision Trees (Training): 79.79%\n",
      "Random Forest (Testing): 75.64%\n",
      "Decision Trees (Testing): 72.12%\n",
      "Logistic Regression (Training): 71.80%\n",
      "Logistic Regression (Testing): 71.15%\n"
     ]
    },
    {
     "name": "stderr",
     "output_type": "stream",
     "text": [
      "\r",
      "                                                                                \r"
     ]
    }
   ],
   "source": [
    "from pyspark.ml.feature import VectorAssembler, StandardScaler\n",
    "from pyspark.ml.classification import RandomForestClassifier, DecisionTreeClassifier, MultilayerPerceptronClassifier, LogisticRegression\n",
    "\n",
    "# Assemble features into a single vector column\n",
    "feature_columns = [col for col in training_data.columns if col != 'passstatus']\n",
    "assembler = VectorAssembler(inputCols=feature_columns, outputCol=\"features\")\n",
    "X_train_assembled = assembler.transform(training_data)\n",
    "X_test_assembled = assembler.transform(test_data)\n",
    "\n",
    "# Apply StandardScaler to the features\n",
    "scaler = StandardScaler(inputCol=\"features\", outputCol=\"scaled_features\")\n",
    "scaler_model = scaler.fit(X_train_assembled)\n",
    "X_train_scaled = scaler_model.transform(X_train_assembled)\n",
    "X_test_scaled = scaler_model.transform(X_test_assembled)\n",
    "\n",
    "# Initialize classifiers with the feature and label columns\n",
    "random_forest = RandomForestClassifier(labelCol=\"passstatus\", featuresCol=\"scaled_features\")\n",
    "decision_tree = DecisionTreeClassifier(labelCol=\"passstatus\", featuresCol=\"scaled_features\")\n",
    "logistic_regression = LogisticRegression(labelCol=\"passstatus\", featuresCol=\"scaled_features\")\n",
    "\n",
    "# Train classifiers on the upsampled training set\n",
    "random_forest_model = random_forest.fit(X_train_scaled)\n",
    "decision_tree_model = decision_tree.fit(X_train_scaled)\n",
    "logistic_regression_model = logistic_regression.fit(X_train_scaled)\n",
    "\n",
    "# Predict on the training set\n",
    "y_train_pred_rf = random_forest_model.transform(X_train_scaled)\n",
    "y_train_pred_dt = decision_tree_model.transform(X_train_scaled)\n",
    "y_train_pred_lr = logistic_regression_model.transform(X_train_scaled)\n",
    "\n",
    "# Predict on the testing set\n",
    "y_pred_rf = random_forest_model.transform(X_test_scaled)\n",
    "y_pred_dt = decision_tree_model.transform(X_test_scaled)\n",
    "y_pred_lr = logistic_regression_model.transform(X_test_scaled)\n",
    "\n",
    "# Calculate accuracy for each classifier on the training data\n",
    "correct_predictions_rf_train = y_train_pred_rf.filter(y_train_pred_rf['prediction'] == y_train_pred_rf['passstatus']).count()\n",
    "correct_predictions_dt_train = y_train_pred_dt.filter(y_train_pred_dt['prediction'] == y_train_pred_dt['passstatus']).count()\n",
    "correct_predictions_lr_train = y_train_pred_lr.filter(y_train_pred_lr['prediction'] == y_train_pred_lr['passstatus']).count()\n",
    "\n",
    "total_predictions_train = y_train_pred_rf.count()  # Assuming all classifiers have the same number of predictions\n",
    "\n",
    "accuracy_train_rf = correct_predictions_rf_train / total_predictions_train\n",
    "accuracy_train_dt = correct_predictions_dt_train / total_predictions_train\n",
    "accuracy_train_lr = correct_predictions_lr_train / total_predictions_train\n",
    "\n",
    "# Calculate accuracy for each classifier on the testing data\n",
    "correct_predictions_rf = y_pred_rf.filter(y_pred_rf['prediction'] == y_pred_rf['passstatus']).count()\n",
    "correct_predictions_dt = y_pred_dt.filter(y_pred_dt['prediction'] == y_pred_dt['passstatus']).count()\n",
    "correct_predictions_lr = y_pred_lr.filter(y_pred_lr['prediction'] == y_pred_lr['passstatus']).count()\n",
    "\n",
    "total_predictions = y_pred_rf.count()  # Assuming all classifiers have the same number of predictions\n",
    "\n",
    "accuracy_rf = correct_predictions_rf / total_predictions\n",
    "accuracy_dt = correct_predictions_dt / total_predictions\n",
    "accuracy_lr = correct_predictions_lr / total_predictions\n",
    "\n",
    "# Create a dictionary to store algorithm performances on both training and testing data\n",
    "algorithm_performances = {\n",
    "    'Random Forest (Training)': accuracy_train_rf,\n",
    "    'Decision Trees (Training)': accuracy_train_dt,\n",
    "    'Logistic Regression (Training)': accuracy_train_lr,\n",
    "    'Random Forest (Testing)': accuracy_rf,\n",
    "    'Decision Trees (Testing)': accuracy_dt,\n",
    "    'Logistic Regression (Testing)': accuracy_lr\n",
    "}\n",
    "\n",
    "# Rank algorithm performances on the testing set\n",
    "sorted_performances = sorted(algorithm_performances.items(), key=lambda x: x[1], reverse=True)\n",
    "\n",
    "# Print algorithm rankings and accuracy scores\n",
    "print(\"Algorithm Performances:\")\n",
    "for algorithm, accuracy in sorted_performances:\n",
    "    print(f\"{algorithm}: {accuracy * 100:.2f}%\")\n"
   ]
  },
  {
   "cell_type": "code",
   "execution_count": 21,
   "id": "582c933d",
   "metadata": {},
   "outputs": [
    {
     "name": "stderr",
     "output_type": "stream",
     "text": [
      "                                                                                \r"
     ]
    },
    {
     "name": "stdout",
     "output_type": "stream",
     "text": [
      "Random Forest Best Parameters: {'bootstrap': True, 'cacheNodeIds': False, 'checkpointInterval': 10, 'featureSubsetStrategy': 'auto', 'featuresCol': 'scaled_features', 'impurity': 'gini', 'labelCol': 'passstatus', 'leafCol': '', 'maxBins': 32, 'maxDepth': 5, 'maxMemoryInMB': 256, 'minInfoGain': 0.0, 'minInstancesPerNode': 1, 'minWeightFractionPerNode': 0.0, 'numTrees': 20, 'predictionCol': 'prediction', 'probabilityCol': 'probability', 'rawPredictionCol': 'rawPrediction', 'seed': -5355632501152417525, 'subsamplingRate': 1.0}\n",
      "\n",
      "Decision Tree Best Parameters: {'cacheNodeIds': False, 'checkpointInterval': 10, 'featuresCol': 'scaled_features', 'impurity': 'gini', 'labelCol': 'passstatus', 'leafCol': '', 'maxBins': 32, 'maxDepth': 5, 'maxMemoryInMB': 256, 'minInfoGain': 0.0, 'minInstancesPerNode': 1, 'minWeightFractionPerNode': 0.0, 'predictionCol': 'prediction', 'probabilityCol': 'probability', 'rawPredictionCol': 'rawPrediction', 'seed': -9215856912427876325}\n",
      "\n",
      "Logistic Regression Best Parameters: {'aggregationDepth': 2, 'elasticNetParam': 0.0, 'family': 'auto', 'featuresCol': 'scaled_features', 'fitIntercept': True, 'labelCol': 'passstatus', 'maxBlockSizeInMB': 0.0, 'maxIter': 100, 'predictionCol': 'prediction', 'probabilityCol': 'probability', 'rawPredictionCol': 'rawPrediction', 'regParam': 0.0, 'standardization': True, 'threshold': 0.5, 'tol': 1e-06}\n"
     ]
    }
   ],
   "source": [
    "from pyspark.ml.classification import RandomForestClassifier, DecisionTreeClassifier, LogisticRegression\n",
    "from pyspark.ml.evaluation import MulticlassClassificationEvaluator\n",
    "from pyspark.ml.tuning import ParamGridBuilder, CrossValidator\n",
    "from pyspark.sql import functions as F\n",
    "\n",
    "# Define your parameter grids for each model\n",
    "rf_param_grid = {\n",
    "    'numTrees': [50, 100, 200],\n",
    "    'maxDepth': [None, 10, 20],\n",
    "    'minInstancesPerNode': [1, 2, 4],\n",
    "    'bootstrap': [True, False]\n",
    "}\n",
    "\n",
    "dt_param_grid = {\n",
    "    'maxDepth': [None, 10, 20, 30, 40],\n",
    "    'minInstancesPerNode': [1, 2, 4]\n",
    "}\n",
    "\n",
    "lr_param_grid = {\n",
    "    'maxIter': [10, 20, 30],\n",
    "    'regParam': [0.01, 0.1, 1.0],\n",
    "    'elasticNetParam': [0.0, 0.5, 1.0]\n",
    "}\n",
    "\n",
    "# Create the models\n",
    "rf_model = RandomForestClassifier(labelCol='passstatus', featuresCol='scaled_features')\n",
    "dt_model = DecisionTreeClassifier(labelCol='passstatus', featuresCol='scaled_features')\n",
    "lr_model = LogisticRegression(labelCol='passstatus', featuresCol='scaled_features')\n",
    "\n",
    "from pyspark.ml import Pipeline\n",
    "\n",
    "# Create a pipeline with the classifier\n",
    "pipeline_rf = Pipeline(stages=[rf_model])\n",
    "\n",
    "# Create the grid search\n",
    "rf_grid_search = CrossValidator(estimator=pipeline_rf,\n",
    "                                estimatorParamMaps=ParamGridBuilder().build(),\n",
    "                                evaluator=MulticlassClassificationEvaluator(labelCol='passstatus'),\n",
    "                                numFolds=3)\n",
    "\n",
    "rf_grid_model = rf_grid_search.fit(X_train_scaled)\n",
    "best_rf_model = rf_grid_model.bestModel.stages[0]\n",
    "\n",
    "# Create a pipeline for Decision Tree\n",
    "pipeline_dt = Pipeline(stages=[dt_model])\n",
    "dt_grid_search = CrossValidator(estimator=pipeline_dt,\n",
    "                                estimatorParamMaps=ParamGridBuilder().build(),\n",
    "                                evaluator=MulticlassClassificationEvaluator(labelCol='passstatus'),\n",
    "                                numFolds=3)\n",
    "\n",
    "dt_grid_model = dt_grid_search.fit(X_train_scaled)\n",
    "best_dt_model = dt_grid_model.bestModel.stages[0]\n",
    "\n",
    "# Create a pipeline for Logistic Regression\n",
    "pipeline_lr = Pipeline(stages=[lr_model])\n",
    "lr_grid_search = CrossValidator(estimator=pipeline_lr,\n",
    "                                estimatorParamMaps=ParamGridBuilder().build(),\n",
    "                                evaluator=MulticlassClassificationEvaluator(labelCol='passstatus'),\n",
    "                                numFolds=3)\n",
    "\n",
    "lr_grid_model = lr_grid_search.fit(X_train_scaled)\n",
    "best_lr_model = lr_grid_model.bestModel.stages[0]\n",
    "\n",
    "# Function to convert param maps to a dictionary for readability\n",
    "def param_map_to_dict(param_map):\n",
    "    param_dict = {}\n",
    "    for param, value in param_map.items():\n",
    "        param_dict[param.name] = value\n",
    "    return param_dict\n",
    "\n",
    "# Output the best parameters for each algorithm\n",
    "print(\"Random Forest Best Parameters:\", param_map_to_dict(best_rf_model.extractParamMap()))\n",
    "print(\"\\nDecision Tree Best Parameters:\", param_map_to_dict(best_dt_model.extractParamMap()))\n",
    "print(\"\\nLogistic Regression Best Parameters:\", param_map_to_dict(best_lr_model.extractParamMap()))\n"
   ]
  },
  {
   "cell_type": "code",
   "execution_count": 22,
   "id": "66fe5c3e",
   "metadata": {
    "scrolled": true
   },
   "outputs": [
    {
     "name": "stderr",
     "output_type": "stream",
     "text": [
      "                                                                                \r"
     ]
    },
    {
     "name": "stdout",
     "output_type": "stream",
     "text": [
      "Random Forest Metrics:\n",
      "Accuracy: 75.64%\n",
      "F1-Score: 75.75%\n",
      "Precision: 75.87%\n",
      "Recall: 75.64%\n",
      "\n",
      "Decision Trees Metrics:\n",
      "Accuracy: 72.12%\n",
      "F1-Score: 73.06%\n",
      "Precision: 74.40%\n",
      "Recall: 72.12%\n",
      "\n",
      "Logistic Regression Metrics:\n",
      "Accuracy: 71.15%\n",
      "F1-Score: 72.43%\n",
      "Precision: 74.49%\n",
      "Recall: 71.15%\n"
     ]
    }
   ],
   "source": [
    "from pyspark.ml.evaluation import MulticlassClassificationEvaluator\n",
    "\n",
    "# Initialize the evaluator\n",
    "evaluator = MulticlassClassificationEvaluator(labelCol=\"passstatus\", predictionCol=\"prediction\")\n",
    "\n",
    "# Calculate metrics for the testing data\n",
    "accuracy = evaluator.evaluate(y_pred_rf, {evaluator.metricName: \"accuracy\"})\n",
    "f1_rf = evaluator.evaluate(y_pred_rf, {evaluator.metricName: \"f1\"})\n",
    "precision_rf = evaluator.evaluate(y_pred_rf, {evaluator.metricName: \"weightedPrecision\"})\n",
    "recall_rf = evaluator.evaluate(y_pred_rf, {evaluator.metricName: \"weightedRecall\"})\n",
    "\n",
    "# Repeat for Decision Trees\n",
    "accuracy_dt = evaluator.evaluate(y_pred_dt, {evaluator.metricName: \"accuracy\"})\n",
    "f1_dt = evaluator.evaluate(y_pred_dt, {evaluator.metricName: \"f1\"})\n",
    "precision_dt = evaluator.evaluate(y_pred_dt, {evaluator.metricName: \"weightedPrecision\"})\n",
    "recall_dt = evaluator.evaluate(y_pred_dt, {evaluator.metricName: \"weightedRecall\"})\n",
    "\n",
    "# Repeat for Logistic Regression\n",
    "accuracy_lr = evaluator.evaluate(y_pred_lr, {evaluator.metricName: \"accuracy\"})\n",
    "f1_lr = evaluator.evaluate(y_pred_lr, {evaluator.metricName: \"f1\"})\n",
    "precision_lr = evaluator.evaluate(y_pred_lr, {evaluator.metricName: \"weightedPrecision\"})\n",
    "recall_lr = evaluator.evaluate(y_pred_lr, {evaluator.metricName: \"weightedRecall\"})\n",
    "\n",
    "# Define a function to format the metrics as percentages with two decimal places\n",
    "def format_percentage(metric):\n",
    "    return f\"{metric * 100:.2f}%\"\n",
    "\n",
    "# Print the evaluation metrics as percentages\n",
    "print(\"Random Forest Metrics:\")\n",
    "print(\"Accuracy:\", format_percentage(accuracy))\n",
    "print(\"F1-Score:\", format_percentage(f1_rf))\n",
    "print(\"Precision:\", format_percentage(precision_rf))\n",
    "print(\"Recall:\", format_percentage(recall_rf))\n",
    "\n",
    "print(\"\\nDecision Trees Metrics:\")\n",
    "print(\"Accuracy:\", format_percentage(accuracy_dt))\n",
    "print(\"F1-Score:\", format_percentage(f1_dt))\n",
    "print(\"Precision:\", format_percentage(precision_dt))\n",
    "print(\"Recall:\", format_percentage(recall_dt))\n",
    "\n",
    "print(\"\\nLogistic Regression Metrics:\")\n",
    "print(\"Accuracy:\", format_percentage(accuracy_lr))\n",
    "print(\"F1-Score:\", format_percentage(f1_lr))\n",
    "print(\"Precision:\", format_percentage(precision_lr))\n",
    "print(\"Recall:\", format_percentage(recall_lr))\n"
   ]
  },
  {
   "cell_type": "markdown",
   "id": "6487fd89",
   "metadata": {},
   "source": [
    "# Data Mining Phase"
   ]
  },
  {
   "cell_type": "code",
   "execution_count": 23,
   "id": "43b27ca6",
   "metadata": {},
   "outputs": [],
   "source": [
    "from pyspark.ml.evaluation import BinaryClassificationEvaluator\n",
    "from pyspark.mllib.evaluation import MulticlassMetrics, BinaryClassificationMetrics\n",
    "from sklearn.metrics import roc_curve, auc\n",
    "\n",
    "# Function to plot ROC curve\n",
    "def plot_roc_curve(fpr, tpr, auc, model_name):\n",
    "    plt.figure(figsize=(8, 6))\n",
    "    plt.plot(fpr, tpr, color='darkorange', lw=2, label=f'{model_name} (AUC = {auc:.2f})')\n",
    "    plt.plot([0, 1], [0, 1], color='navy', lw=2, linestyle='--')\n",
    "    plt.xlim([0.0, 1.0])\n",
    "    plt.ylim([0.0, 1.05])\n",
    "    plt.xlabel('False Positive Rate')\n",
    "    plt.ylabel('True Positive Rate')\n",
    "    plt.title(f'ROC Curve for {model_name}')\n",
    "    plt.legend(loc='lower right')\n",
    "    plt.show()\n",
    "\n",
    "# Function to plot confusion matrix\n",
    "def plot_confusion_matrix_custom(y_true, y_pred, model_name):\n",
    "    # Create a list of tuples containing true and predicted labels\n",
    "    y_true_pred = list(zip(y_true, y_pred))\n",
    "\n",
    "    # Convert the list to an RDD\n",
    "    y_true_pred_rdd = spark.sparkContext.parallelize(y_true_pred)\n",
    "\n",
    "    # Define the function to convert the RDD to a format suitable for MulticlassMetrics\n",
    "    def convert_to_metrics_format(item):\n",
    "        return (item[0], item[1])\n",
    "\n",
    "    # Apply the conversion function\n",
    "    cm = y_true_pred_rdd.map(convert_to_metrics_format)\n",
    "\n",
    "    # Calculate the confusion matrix\n",
    "    cm = MulticlassMetrics(cm).confusionMatrix().toArray()\n",
    "\n",
    "    # Plot the confusion matrix\n",
    "    plt.figure(figsize=(8, 6))\n",
    "    plt.imshow(cm, interpolation='nearest', cmap=plt.cm.Blues)\n",
    "    plt.title(f'Confusion Matrix for {model_name}')\n",
    "    plt.colorbar()\n",
    "    classes = [0, 1]\n",
    "    tick_marks = np.arange(len(classes))\n",
    "    plt.xticks(tick_marks, classes)\n",
    "    plt.yticks(tick_marks, classes)\n",
    "\n",
    "    # Add numbers in the cells\n",
    "    thresh = cm.max() / 2.\n",
    "    for i in range(cm.shape[0]):\n",
    "        for j in range(cm.shape[1]):\n",
    "            plt.text(j, i, int(cm[i, j]),\n",
    "                     ha=\"center\", va=\"center\",\n",
    "                     color=\"white\" if cm[i, j] > thresh else \"black\")\n",
    "\n",
    "    plt.xlabel('Predicted Label')\n",
    "    plt.ylabel('True Label')\n",
    "    plt.show()"
   ]
  },
  {
   "cell_type": "code",
   "execution_count": 26,
   "id": "0a8c7cd9",
   "metadata": {},
   "outputs": [
    {
     "name": "stderr",
     "output_type": "stream",
     "text": [
      "                                                                                \r"
     ]
    },
    {
     "data": {
      "image/png": "[encoded data removed]",
      "text/plain": [
       "<Figure size 720x504 with 1 Axes>"
      ]
     },
     "metadata": {
      "needs_background": "light"
     },
     "output_type": "display_data"
    },
    {
     "data": {
      "image/png": "[encoded data removed]",
      "text/plain": [
       "<Figure size 576x432 with 1 Axes>"
      ]
     },
     "metadata": {
      "needs_background": "light"
     },
     "output_type": "display_data"
    },
    {
     "name": "stderr",
     "output_type": "stream",
     "text": [
      "/home/ubuntu/spark-3.2.1-bin-hadoop2.7/python/pyspark/sql/context.py:125: FutureWarning: Deprecated in 3.0.0. Use SparkSession.builder.getOrCreate() instead.\n",
      "  warnings.warn(\n"
     ]
    },
    {
     "data": {
      "image/png": "[encoded data removed]",
      "text/plain": [
       "<Figure size 576x432 with 2 Axes>"
      ]
     },
     "metadata": {
      "needs_background": "light"
     },
     "output_type": "display_data"
    }
   ],
   "source": [
    "# Visualize Random Forest Feature Importance\n",
    "rf_predictions = best_rf_model.transform(X_test_scaled)\n",
    "y_test_rf = rf_predictions.select(\"passstatus\").rdd.map(lambda x: x[0]).collect()\n",
    "y_pred_rf = rf_predictions.select(\"prediction\").rdd.map(lambda x: x[0]).collect()\n",
    "\n",
    "# Extract feature importances from the Random Forest model\n",
    "feature_importances = best_rf_model.featureImportances\n",
    "\n",
    "# Get the list of feature names (assuming you have it)\n",
    "feature_names = [col for col in X_test_assembled.columns if col != \"passstatus\"]\n",
    "\n",
    "# Create a dictionary that maps feature names to their importances\n",
    "feature_importance_dict = dict(zip(feature_names, feature_importances))\n",
    "\n",
    "# Sort the feature importances in descending order\n",
    "sorted_feature_importances = sorted(feature_importance_dict.items(), key=lambda x: x[1])\n",
    "\n",
    "plt.figure(figsize=(10, 7))\n",
    "sorted_feature_names, sorted_importances = zip(*sorted_feature_importances)\n",
    "plt.barh(sorted_feature_names, sorted_importances)\n",
    "plt.xlabel('Feature Importance')\n",
    "plt.ylabel('Feature')\n",
    "plt.title('Random Forest Feature Importances')\n",
    "plt.show()\n",
    "\n",
    "# Plot ROC curve for Random Forest\n",
    "\n",
    "false_positive_rate_rf, true_positive_rate_rf, thresholds_rf = roc_curve(y_test_rf, y_pred_rf)\n",
    "roc_auc_rf = auc(false_positive_rate_rf, true_positive_rate_rf)\n",
    "plot_roc_curve(false_positive_rate_rf, true_positive_rate_rf, roc_auc_rf, 'Random Forest')\n",
    "\n",
    "# Plot confusion matrix for Random Forest\n",
    "y_test_rf = rf_predictions.select(\"passstatus\").rdd.map(lambda x: float(x[0])).collect()\n",
    "y_pred_rf = rf_predictions.select(\"prediction\").rdd.map(lambda x: float(x[0])).collect()\n",
    "plot_confusion_matrix_custom(y_test_rf, y_pred_rf, 'Random Forest')"
   ]
  },
  {
   "cell_type": "code",
   "execution_count": 30,
   "id": "6fed8dd5",
   "metadata": {},
   "outputs": [
    {
     "name": "stderr",
     "output_type": "stream",
     "text": [
      "                                                                                \r"
     ]
    },
    {
     "data": {
      "image/png": "[encoded data removed]",
      "text/plain": [
       "<Figure size 720x504 with 1 Axes>"
      ]
     },
     "metadata": {
      "needs_background": "light"
     },
     "output_type": "display_data"
    },
    {
     "data": {
      "image/png": "[encoded data removed]",
      "text/plain": [
       "<Figure size 576x432 with 1 Axes>"
      ]
     },
     "metadata": {
      "needs_background": "light"
     },
     "output_type": "display_data"
    },
    {
     "name": "stderr",
     "output_type": "stream",
     "text": [
      "\r",
      "[Stage 507:>                                                        (0 + 2) / 2]\r",
      "\r",
      "                                                                                \r",
      "/home/ubuntu/spark-3.2.1-bin-hadoop2.7/python/pyspark/sql/context.py:125: FutureWarning: Deprecated in 3.0.0. Use SparkSession.builder.getOrCreate() instead.\n",
      "  warnings.warn(\n"
     ]
    },
    {
     "data": {
      "image/png": "[encoded data removed]",
      "text/plain": [
       "<Figure size 576x432 with 2 Axes>"
      ]
     },
     "metadata": {
      "needs_background": "light"
     },
     "output_type": "display_data"
    }
   ],
   "source": [
    "# Visualize Decision Tree Feature Importance\n",
    "dt_predictions = best_dt_model.transform(X_test_scaled)\n",
    "y_test_dt = dt_predictions.select(\"passstatus\").rdd.map(lambda x: x[0]).collect()\n",
    "y_pred_dt = dt_predictions.select(\"prediction\").rdd.map(lambda x: x[0]).collect()\n",
    "\n",
    "# Extract feature importances from the Decision Tree model\n",
    "feature_importances = best_dt_model.featureImportances\n",
    "\n",
    "# Get the list of feature names (assuming you have it)\n",
    "feature_names = [col for col in X_test_assembled.columns if col != \"passstatus\"]\n",
    "\n",
    "# Create a dictionary that maps feature names to their importances\n",
    "feature_importance_dict = dict(zip(feature_names, feature_importances))\n",
    "\n",
    "# Sort the feature importances in descending order\n",
    "sorted_feature_importances = sorted(feature_importance_dict.items(), key=lambda x: x[1])\n",
    "\n",
    "plt.figure(figsize=(10, 7))\n",
    "sorted_feature_names, sorted_importances = zip(*sorted_feature_importances)\n",
    "plt.barh(sorted_feature_names, sorted_importances)\n",
    "plt.xlabel('Feature Importance')\n",
    "plt.ylabel('Feature')\n",
    "plt.title('Decision Tree Feature Importances')\n",
    "plt.show()\n",
    "\n",
    "# Plot ROC curve for Decision Tree\n",
    "false_positive_rate_dt, true_positive_rate_dt, thresholds_dt = roc_curve(y_test_dt, y_pred_dt)\n",
    "roc_auc_dt = auc(false_positive_rate_dt, true_positive_rate_dt)\n",
    "plot_roc_curve(false_positive_rate_dt, true_positive_rate_dt, roc_auc_dt, 'Decision Tree')\n",
    "\n",
    "# Plot confusion matrix for Decision Tree\n",
    "y_test_dt = dt_predictions.select(\"passstatus\").rdd.map(lambda x: float(x[0])).collect()\n",
    "y_pred_dt = dt_predictions.select(\"prediction\").rdd.map(lambda x: float(x[0])).collect()\n",
    "plot_confusion_matrix_custom(y_test_dt, y_pred_dt, 'Decision Tree')\n"
   ]
  },
  {
   "cell_type": "code",
   "execution_count": 31,
   "id": "c5bde6ef",
   "metadata": {},
   "outputs": [
    {
     "name": "stderr",
     "output_type": "stream",
     "text": [
      "                                                                                \r"
     ]
    },
    {
     "data": {
      "image/png": "[encoded data removed]",
      "text/plain": [
       "<Figure size 720x504 with 1 Axes>"
      ]
     },
     "metadata": {
      "needs_background": "light"
     },
     "output_type": "display_data"
    },
    {
     "name": "stderr",
     "output_type": "stream",
     "text": [
      "\r",
      "[Stage 529:>                                                        (0 + 2) / 2]\r",
      "\r",
      "                                                                                \r"
     ]
    },
    {
     "data": {
      "image/png": "[encoded data removed]",
      "text/plain": [
       "<Figure size 576x432 with 1 Axes>"
      ]
     },
     "metadata": {
      "needs_background": "light"
     },
     "output_type": "display_data"
    },
    {
     "name": "stderr",
     "output_type": "stream",
     "text": [
      "\r",
      "[Stage 531:>                                                        (0 + 2) / 2]\r",
      "\r",
      "                                                                                \r",
      "/home/ubuntu/spark-3.2.1-bin-hadoop2.7/python/pyspark/sql/context.py:125: FutureWarning: Deprecated in 3.0.0. Use SparkSession.builder.getOrCreate() instead.\n",
      "  warnings.warn(\n"
     ]
    },
    {
     "data": {
      "image/png": "[encoded data removed]",
      "text/plain": [
       "<Figure size 576x432 with 2 Axes>"
      ]
     },
     "metadata": {
      "needs_background": "light"
     },
     "output_type": "display_data"
    }
   ],
   "source": [
    "# Visualize Logistic Regression Feature Importances\n",
    "lr = LogisticRegression(labelCol=\"passstatus\", featuresCol=\"features\", fitIntercept=True, regParam=0.1, elasticNetParam=0)\n",
    "model_lr = lr.fit(X_train_assembled)\n",
    "\n",
    "# Extract feature coefficients from the model\n",
    "lr_coefficients = model_lr.coefficients\n",
    "\n",
    "# Get the list of feature names excluding \"passstatus\"\n",
    "feature_names = [col for col in X_test_assembled.columns if col != \"passstatus\"]\n",
    "\n",
    "# Create a dictionary that maps feature names to their coefficients\n",
    "feature_coefficients_dict = dict(zip(feature_names, lr_coefficients))\n",
    "\n",
    "# Sort the feature coefficients in descending order\n",
    "sorted_feature_coefficients = sorted(feature_coefficients_dict.items(), key=lambda x: abs(x[1]), reverse=True)\n",
    "\n",
    "plt.figure(figsize=(10, 7))\n",
    "plt.barh(*zip(*sorted_feature_coefficients))\n",
    "plt.xlabel('Coefficient Magnitude')\n",
    "plt.ylabel('Feature')\n",
    "plt.title('Logistic Regression Feature Importances')\n",
    "plt.show()\n",
    "\n",
    "# Make predictions on the test set\n",
    "lr_predictions = logistic_regression_model.transform(X_test_scaled)\n",
    "y_test_lr = lr_predictions.select(\"passstatus\").rdd.map(lambda x: x[0]).collect()\n",
    "y_pred_lr = lr_predictions.select(\"prediction\").rdd.map(lambda x: x[0]).collect()\n",
    "\n",
    "# Calculate the ROC curve and AUC\n",
    "false_positive_rate_lr, true_positive_rate_lr, _ = roc_curve(y_test_lr, y_pred_lr)\n",
    "roc_auc_lr = auc(false_positive_rate_lr, true_positive_rate_lr)\n",
    "\n",
    "# Plot the ROC curve\n",
    "plot_roc_curve(false_positive_rate_lr, true_positive_rate_lr, roc_auc_lr, 'Logistic Regression')\n",
    "\n",
    "# Plot the confusion matrix\n",
    "y_test_lr = lr_predictions.select(\"passstatus\").rdd.map(lambda x: float(x[0])).collect()\n",
    "y_pred_lr = lr_predictions.select(\"prediction\").rdd.map(lambda x: float(x[0])).collect()\n",
    "plot_confusion_matrix_custom(y_test_lr, y_pred_lr, 'Logistic Regression')"
   ]
  },
  {
   "cell_type": "code",
   "execution_count": 41,
   "id": "0906a994",
   "metadata": {},
   "outputs": [
    {
     "name": "stderr",
     "output_type": "stream",
     "text": [
      "                                                                                \r"
     ]
    },
    {
     "name": "stdout",
     "output_type": "stream",
     "text": [
      "The shape of the data is: (1163,31)\n",
      "root\n",
      " |-- sex: integer (nullable = true)\n",
      " |-- age: integer (nullable = true)\n",
      " |-- address: integer (nullable = true)\n",
      " |-- famsize: integer (nullable = true)\n",
      " |-- Pstatus: integer (nullable = true)\n",
      " |-- Medu: integer (nullable = true)\n",
      " |-- Fedu: integer (nullable = true)\n",
      " |-- traveltime: integer (nullable = true)\n",
      " |-- studytime: integer (nullable = true)\n",
      " |-- failures: integer (nullable = true)\n",
      " |-- schoolsup: integer (nullable = true)\n",
      " |-- famsup: integer (nullable = true)\n",
      " |-- paid: integer (nullable = true)\n",
      " |-- activities: integer (nullable = true)\n",
      " |-- nursery: integer (nullable = true)\n",
      " |-- higher: integer (nullable = true)\n",
      " |-- internet: integer (nullable = true)\n",
      " |-- romantic: integer (nullable = true)\n",
      " |-- famrel: integer (nullable = true)\n",
      " |-- freetime: integer (nullable = true)\n",
      " |-- goout: integer (nullable = true)\n",
      " |-- Dalc: integer (nullable = true)\n",
      " |-- Walc: integer (nullable = true)\n",
      " |-- health: integer (nullable = true)\n",
      " |-- absences: integer (nullable = true)\n",
      " |-- passstatus: integer (nullable = false)\n",
      " |-- Mjob_index: double (nullable = false)\n",
      " |-- Fjob_index: double (nullable = false)\n",
      " |-- Mjob_encoded: vector (nullable = true)\n",
      " |-- Fjob_encoded: vector (nullable = true)\n",
      " |-- features: vector (nullable = true)\n",
      "\n"
     ]
    },
    {
     "name": "stderr",
     "output_type": "stream",
     "text": [
      "\r",
      "[Stage 574:============================>                            (2 + 2) / 4]\r",
      "\r",
      "                                                                                \r"
     ]
    },
    {
     "name": "stdout",
     "output_type": "stream",
     "text": [
      "      sex  age  address  famsize  Pstatus  Medu  Fedu  traveltime  studytime  \\\n",
      "0       0   15        0        0        0     1     1           1          2   \n",
      "1       0   15        0        0        0     4     2           1          2   \n",
      "2       0   15        0        0        1     2     1           2          1   \n",
      "3       0   15        0        0        1     3     4           1          2   \n",
      "4       0   15        0        0        1     4     3           1          2   \n",
      "...   ...  ...      ...      ...      ...   ...   ...         ...        ...   \n",
      "1158    1   20        0        0        1     2     2           1          2   \n",
      "1159    1   22        0        1        0     3     1           1          1   \n",
      "1160    1   22        0        1        0     3     1           1          1   \n",
      "1161    1   22        0        1        0     3     1           1          1   \n",
      "1162    1   22        0        1        0     3     1           1          1   \n",
      "\n",
      "      failures  ...  Dalc  Walc  health  absences  passstatus  Mjob_index  \\\n",
      "0            0  ...     2     3       3         6           1         2.0   \n",
      "1            0  ...     1     1       5         0           1         4.0   \n",
      "2            0  ...     1     1       5         0           1         2.0   \n",
      "3            0  ...     1     1       1         0           1         0.0   \n",
      "4            0  ...     1     1       5         4           1         0.0   \n",
      "...        ...  ...   ...   ...     ...       ...         ...         ...   \n",
      "1158         2  ...     4     5       4        11           0         1.0   \n",
      "1159         3  ...     5     5       1        16           0         1.0   \n",
      "1160         3  ...     5     5       1        16           0         1.0   \n",
      "1161         3  ...     5     5       1        16           0         1.0   \n",
      "1162         3  ...     5     5       1        16           0         1.0   \n",
      "\n",
      "      Fjob_index          Mjob_encoded          Fjob_encoded  \\\n",
      "0            0.0  (0.0, 0.0, 1.0, 0.0)  (1.0, 0.0, 0.0, 0.0)   \n",
      "1            0.0  (0.0, 0.0, 0.0, 0.0)  (1.0, 0.0, 0.0, 0.0)   \n",
      "2            0.0  (0.0, 0.0, 1.0, 0.0)  (1.0, 0.0, 0.0, 0.0)   \n",
      "3            0.0  (1.0, 0.0, 0.0, 0.0)  (1.0, 0.0, 0.0, 0.0)   \n",
      "4            0.0  (1.0, 0.0, 0.0, 0.0)  (1.0, 0.0, 0.0, 0.0)   \n",
      "...          ...                   ...                   ...   \n",
      "1158         1.0  (0.0, 1.0, 0.0, 0.0)  (0.0, 1.0, 0.0, 0.0)   \n",
      "1159         1.0  (0.0, 1.0, 0.0, 0.0)  (0.0, 1.0, 0.0, 0.0)   \n",
      "1160         1.0  (0.0, 1.0, 0.0, 0.0)  (0.0, 1.0, 0.0, 0.0)   \n",
      "1161         1.0  (0.0, 1.0, 0.0, 0.0)  (0.0, 1.0, 0.0, 0.0)   \n",
      "1162         1.0  (0.0, 1.0, 0.0, 0.0)  (0.0, 1.0, 0.0, 0.0)   \n",
      "\n",
      "                                               features  \n",
      "0     (0.0, 15.0, 0.0, 0.0, 0.0, 1.0, 1.0, 1.0, 2.0,...  \n",
      "1     (0.0, 15.0, 0.0, 0.0, 0.0, 4.0, 2.0, 1.0, 2.0,...  \n",
      "2     (0.0, 15.0, 0.0, 0.0, 1.0, 2.0, 1.0, 2.0, 1.0,...  \n",
      "3     (0.0, 15.0, 0.0, 0.0, 1.0, 3.0, 4.0, 1.0, 2.0,...  \n",
      "4     [0.0, 15.0, 0.0, 0.0, 1.0, 4.0, 3.0, 1.0, 2.0,...  \n",
      "...                                                 ...  \n",
      "1158  [1.0, 20.0, 0.0, 0.0, 1.0, 2.0, 2.0, 1.0, 2.0,...  \n",
      "1159  (1.0, 22.0, 0.0, 1.0, 0.0, 3.0, 1.0, 1.0, 1.0,...  \n",
      "1160  (1.0, 22.0, 0.0, 1.0, 0.0, 3.0, 1.0, 1.0, 1.0,...  \n",
      "1161  (1.0, 22.0, 0.0, 1.0, 0.0, 3.0, 1.0, 1.0, 1.0,...  \n",
      "1162  (1.0, 22.0, 0.0, 1.0, 0.0, 3.0, 1.0, 1.0, 1.0,...  \n",
      "\n",
      "[1163 rows x 31 columns]\n"
     ]
    }
   ],
   "source": [
    "# Display the shape of the DataFrame\n",
    "print(\"The shape of the data is: ({0},{1})\".format(training_data.count(),len(student_por.columns)))\n",
    "training_data.printSchema()\n",
    "print(training_data.toPandas())\n",
    "\n",
    "\n",
    "\n"
   ]
  },
  {
   "cell_type": "code",
   "execution_count": null,
   "id": "150b92c6",
   "metadata": {},
   "outputs": [],
   "source": []
  }
 ],
 "metadata": {
  "kernelspec": {
   "display_name": "Python 3 (ipykernel)",
   "language": "python",
   "name": "python3"
  },
  "language_info": {
   "codemirror_mode": {
    "name": "ipython",
    "version": 3
   },
   "file_extension": ".py",
   "mimetype": "text/x-python",
   "name": "python",
   "nbconvert_exporter": "python",
   "pygments_lexer": "ipython3",
   "version": "3.10.12"
  }
 },
 "nbformat": 4,
 "nbformat_minor": 5
}
